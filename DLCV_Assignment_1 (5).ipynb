{
 "cells": [
  {
   "cell_type": "markdown",
   "metadata": {
    "id": "KE1Rct79pdT1"
   },
   "source": [
    "# DLCV Assignment 1\n",
    "\n",
    "**Due Date: 17/02/2023 11:59PM IST**\n",
    "\n",
    "**Name:*Harsh Vishwakarma*\n",
    "\n",
    "**Sr. No.:*21532*\n",
    "\n",
    "\n",
    "In this assignment, we will cover the following topics:\n",
    "\n",
    "1) Training a simple Linear Model \n",
    "\n",
    "2) Implementing Modules with Backprop functionality\n",
    "\n",
    "3) Implementing Convolution Module on Numpy\n",
    "\n",
    "\n",
    "It is crucial to get down to the nitty gritty of the code to implement all of these. No external packages (like caffe,pytorch etc), which directly give functions for these steps, are to be used. "
   ]
  },
  {
   "cell_type": "markdown",
   "metadata": {
    "id": "Emb3Bo_NpdUl"
   },
   "source": [
    "# Training a simple Linear Model\n",
    "\n",
    "In this section, you will write the code to train a Linear Model. The goal is to classify an input $X_i$ of size $n$ into one of $m$ classes. For this, you need to consider the following:\n",
    "\n",
    "1)  **Weight Matrix** $W_{n\\times m}$: The Weights are multipled with the input $X_i$ (vector of size $n$), to find $m$ scores $S_m$ for the $m$ classes.\n",
    "\n",
    "2)  **The Loss function**:   \n",
    "  * The Cross Entropy Loss: By interpreting the scores as unnormalized log probabilities for each class, this loss tries to measure dissatisfaction with the scores in terms of the log probability of the right class:\n",
    "\n",
    "$$\n",
    "L_i = -\\log\\left(\\frac{e^{f_{y_i}}}{ \\sum_j e^{f_j} }\\right) \\hspace{0.5in} \\text{or equivalently} \\hspace{0.5in} L_i = -f_{y_i} + \\log\\sum_j e^{f_j}\n",
    "$$\n",
    "\n",
    "where $f_{ y_i }$ is the $y_i$-th element of the output of $W^T  X_i$\n",
    "\n",
    "3) **A Regularization term**: In addition to the loss, you need a Regularization term to lead to a more distributed (in case of $L_2$) or sparse (in case of $L_1$) learning of the weights. For example, with $L_2$ regularization, the loss has the following additional term:\n",
    "\n",
    "$$\n",
    "R(W) = \\sum_k\\sum_l W_{k,l}^2  \n",
    "$$\n",
    "\n",
    "Thus the total loss has the form:\n",
    "$$\n",
    "L =  \\underbrace{ \\frac{1}{N} \\sum_i L_i }_\\text{data loss} + \\underbrace{ \\lambda R(W) }_\\text{regularization loss} \\\\\\\\\n",
    "$$\n",
    "\n",
    "4) **An Optimization Procedure**: This refers to the process which tweaks the weight Matrix $W_{n\\times m}$ to reduce the loss function $L$. In our case, this refers to Mini-batch Gradient Descent algorithm. We adjust the weights $W_{n\\times m}$, based on the gradient of the loss $L$ w.r.t. $W_{n\\times m}$. This leads to:\n",
    "$$\n",
    "W_{t+1} = W_{t} - \\alpha \\frac{\\partial L}{\\partial W},\n",
    "$$\n",
    "where $\\alpha$ is the learning rate. Additionally, with \"mini-batch\" gradient descent, instead of finding loss over the whole dataset, we use a small sample $B$ of the training data to make each learning step. Hence,\n",
    "$$\n",
    "W_{t+1} = W_{t} - \\alpha \\frac{\\partial \\sum_{i \\in B}{L_{x_i}}}{\\partial W},\n",
    "$$\n",
    "where $|B|$ is the batch size."
   ]
  },
  {
   "cell_type": "markdown",
   "metadata": {
    "id": "I2neGQlEpdVD"
   },
   "source": [
    "# Question 1\n",
    "\n",
    "Train a **Single-Layer Classifier** for the MNIST dataset. \n",
    "* Use Softmax-Loss.\n",
    "* Maintain a train-validation split of the original training set for finding the right value of $\\lambda$ for the regularization, and to check for over-fitting.\n",
    "* Finally, evaluate the classification performance on the test-set.\n"
   ]
  },
  {
   "cell_type": "code",
   "execution_count": 264,
   "metadata": {
    "id": "iYLOe1wSyh7Q"
   },
   "outputs": [],
   "source": [
    "import sklearn as sk\n",
    "import matplotlib.pyplot as plt\n",
    "import struct as struct\n",
    "import numpy as np\n",
    "import pandas as pd\n",
    "import math\n",
    "\n",
    "from sklearn.datasets import load_digits\n",
    "from sklearn.linear_model import RidgeClassifier\n"
   ]
  },
  {
   "cell_type": "code",
   "execution_count": 265,
   "metadata": {
    "colab": {
     "base_uri": "https://localhost:8080/",
     "height": 240
    },
    "id": "lxzUGjd0yh7R",
    "outputId": "eb3e01a5-79ec-4eb4-e3ff-94b061be6dea"
   },
   "outputs": [
    {
     "name": "stdout",
     "output_type": "stream",
     "text": [
      "############### Training Samples and Labels ###############\n"
     ]
    },
    {
     "data": {
      "image/png": "[encoded data removed]",
      "text/plain": [
       "<Figure size 432x288 with 1 Axes>"
      ]
     },
     "metadata": {
      "needs_background": "light"
     },
     "output_type": "display_data"
    },
    {
     "name": "stdout",
     "output_type": "stream",
     "text": [
      "5\n",
      "(60000, 28, 28)\n",
      "(60000,)\n",
      "############### Testing Samples and Labels ###############\n"
     ]
    },
    {
     "data": {
      "image/png": "[encoded data removed]",
      "text/plain": [
       "<Figure size 432x288 with 1 Axes>"
      ]
     },
     "metadata": {
      "needs_background": "light"
     },
     "output_type": "display_data"
    },
    {
     "name": "stdout",
     "output_type": "stream",
     "text": [
      "7\n",
      "(10000, 28, 28)\n",
      "(10000,)\n",
      "{0, 1, 2, 3, 4, 5, 6, 7, 8, 9}\n"
     ]
    }
   ],
   "source": [
    "## Load The Mnist data:\n",
    "# Download data from http://yann.lecun.com/exdb/mnist/\n",
    "# load the data.\n",
    "\n",
    "\n",
    "####### train_images and labels #############\n",
    "with open('MNIST/train-images-idx3-ubyte','rb') as f:\n",
    "    magic, size = struct.unpack(\">II\", f.read(8))\n",
    "    nrows, ncols = struct.unpack(\">II\", f.read(8))\n",
    "    train_imgs = np.fromfile(f, dtype=np.dtype(np.uint8).newbyteorder('>'))\n",
    "    train_imgs = train_imgs.reshape((size, nrows, ncols))\n",
    "    \n",
    "print(\"############### Training Samples and Labels ###############\")\n",
    "plt.imshow(train_imgs[0,:,:], cmap='gray')\n",
    "plt.show()\n",
    "\n",
    "\n",
    "with open('MNIST/train-labels-idx1-ubyte','rb') as f:\n",
    "    magic, size = struct.unpack(\">II\", f.read(8))\n",
    "    train_labels = np.fromfile(f, dtype=np.dtype(np.uint8).newbyteorder('>'))\n",
    "    train_labels = train_labels.reshape((size,)) # (Optional)\n",
    "print(train_labels[0])\n",
    "print(train_imgs.shape)\n",
    "print(train_labels.shape)\n",
    "\n",
    "\n",
    "####### test_images and labels #############\n",
    "\n",
    "with open('MNIST/t10k-images-idx3-ubyte','rb') as f:\n",
    "    magic, size = struct.unpack(\">II\", f.read(8))\n",
    "    nrows, ncols = struct.unpack(\">II\", f.read(8))\n",
    "    test_imgs = np.fromfile(f, dtype=np.dtype(np.uint8).newbyteorder('>'))\n",
    "    test_imgs = test_imgs.reshape((size, nrows, ncols))\n",
    "    \n",
    "print(\"############### Testing Samples and Labels ###############\")\n",
    "plt.imshow(test_imgs[0,:,:], cmap='gray')\n",
    "plt.show()\n",
    "\n",
    "\n",
    "with open('MNIST/t10k-labels-idx1-ubyte','rb') as f:\n",
    "    magic, size = struct.unpack(\">II\", f.read(8))\n",
    "    test_labels = np.fromfile(f, dtype=np.dtype(np.uint8).newbyteorder('>'))\n",
    "    test_labels = test_labels.reshape((size,)) # (Optional)\n",
    "print(test_labels[0])\n",
    "print(test_imgs.shape)\n",
    "print(test_labels.shape)\n",
    "\n",
    "\n",
    "classes= set(test_labels)\n",
    "print(classes)"
   ]
  },
  {
   "cell_type": "code",
   "execution_count": 266,
   "metadata": {
    "id": "jwa72NJTpdVc"
   },
   "outputs": [],
   "source": [
    "## Load The Mnist data:\n",
    "# Download data from http://yann.lecun.com/exdb/mnist/\n",
    "# load the data.\n",
    "\n",
    "# maintain a train-val split\n",
    "\n",
    "# Now, write a generator that yields (random) mini-batches of the input data\n",
    "# Do not use same set of mini-batches for different epochs\n",
    "    \n",
    "def get_minibatch(training_x, training_y,kappa):\n",
    "    indices = np.arange(len(training_x))\n",
    "    np.random.shuffle(indices)\n",
    "    \n",
    "    for i in range(0, len(training_x),kappa):\n",
    "        mini_x = training_x[indices[i:i+kappa]]\n",
    "        mini_y = training_y[indices[i:i+kappa]]\n",
    "        yield mini_x, mini_y\n",
    "    \n",
    "    \n",
    "    ## Read about Python generators if required.\n",
    "\n",
    "    ## WRITE CODE HERE\n",
    " \n"
   ]
  },
  {
   "cell_type": "code",
   "execution_count": 267,
   "metadata": {
    "id": "HVMwqheRpdXo"
   },
   "outputs": [],
   "source": [
    "# Define the class for a Single Layer Classifier\n",
    "class Single_layer_classifier():\n",
    "    \n",
    "    def __init__(self, input_size, output_size,lambd):\n",
    "        self.weights = np.random.normal(loc=0,scale=0.001 ,size= (input_size,output_size))\n",
    "        self.input_size = input_size\n",
    "        self.output_size = output_size\n",
    "        self.lambd = lambd\n",
    "        self.eta = 0.0001\n",
    "        # self.bias = \n",
    "        ## WRITE CODE HERE\n",
    "        \n",
    "        # Give the instance a weight matrix, initialized randomly\n",
    "        # One possible strategy for a good initialization is Normal (0, σ) where σ = 1e-3.\n",
    "        # Try experimenting with different values of σ.\n",
    "        \n",
    "    # Define the forward function\n",
    "    def forward(self, input_x):\n",
    "        \n",
    "        input_x = input_x.reshape(input_x.shape[0],1) #make input_x 784 X 1\n",
    "        #print(input_x.shape,self.weights.shape)\n",
    "        scores = np.matmul(self.weights.T,input_x)\n",
    "        mi=1000000000\n",
    "        ma = -1000000\n",
    "        \n",
    "        ######## Normalize scores ###########\n",
    "        for i in range(0,len(scores)):\n",
    "            for j in range(0,len(scores[0])):\n",
    "                mi = min(mi,scores[i][j])\n",
    "                ma = max(ma,scores[i][j])\n",
    "        for i in range(0,len(scores)):\n",
    "            for j in range(0,len(scores[0])):\n",
    "                scores[i][j] = scores[i][j]-mi/(ma-mi)\n",
    "        \n",
    "        \n",
    "        return scores\n",
    "    \n",
    "    # Similarly a backward function\n",
    "    # we define 2 backward functions (as Loss = L_data + L_reg, grad(Loss) = grad(L1) + grad(L2))\n",
    "    \n",
    "    def backward_Ldata(self, grad_from_loss,x_i):\n",
    "        #print(grad_from_loss.shape,x_i.shape)\n",
    "        x_i = x_i.reshape(x_i.shape[0],-1)\n",
    "        \n",
    "        grad_matrix = np.matmul(grad_from_loss,x_i.T)\n",
    "        # this function returns a matrix of the same size as the weights, \n",
    "        # where each element is the partial derivative of the loss w.r.t. the corresponding element of W\n",
    "        \n",
    "        ## WRITE CODE HERE\n",
    "        \n",
    "        return grad_matrix.T\n",
    "        \n",
    "    def backward_Lreg(self):\n",
    "        grad_matrix= 2*self.weights\n",
    "    \n",
    "        # this function returns a matrix of the same size as the weights, \n",
    "        # where each element is the partial derivative of the regularization-term\n",
    "        # w.r.t. the corresponding element of W\n",
    "        \n",
    "        ## WRITE CODE HERE\n",
    "        \n",
    "        return grad_matrix\n",
    "    ##### Update weights in backward pass ######\n",
    "    def backward(self,grad_matrix):\n",
    "        self.weights = self.weights - self.eta*(grad_matrix+self.lambd*self.backward_Lreg())\n"
   ]
  },
  {
   "cell_type": "code",
   "execution_count": 287,
   "metadata": {
    "id": "BM3EhmY0pdYZ"
   },
   "outputs": [],
   "source": [
    "# Implement the Softmax loss function\n",
    "def loss_function(input_y,scores):\n",
    "   \n",
    " \n",
    "    x=-1*sum(scores*input_y)\n",
    "    \n",
    "    loss = x + math.log(sum(np.exp(scores))+0.0001)\n",
    "    \n",
    "    return loss\n",
    "\n",
    "\n",
    "def loss_backward(scores,input_y):\n",
    "    grad_part = np.exp(scores)/sum(np.exp(scores))\n",
    "    grad_part = grad_part.reshape(grad_part.shape[0],1)\n",
    "    grad_from_loss = np.subtract(grad_part,input_y)\n",
    "    \n",
    "    return grad_from_loss\n",
    "\n"
   ]
  },
  {
   "cell_type": "code",
   "execution_count": 269,
   "metadata": {
    "id": "-fkxQ3NLyh7S"
   },
   "outputs": [],
   "source": [
    "# WRITE CODE HERE\n",
    "def get_onehotencoding(input_y):\n",
    "    encoded_y = np.zeros(shape=(10,1))\n",
    "    encoded_y[input_y]=1.0\n",
    "            \n",
    "    return encoded_y\n",
    "    "
   ]
  },
  {
   "cell_type": "code",
   "execution_count": 283,
   "metadata": {
    "id": "AhpaaUvJpdZJ"
   },
   "outputs": [],
   "source": [
    "# Finally the trainer:\n",
    "# Make an instance of Single_layer_classifier\n",
    "# Train for t epochs:\n",
    "###  Train on the train-set obtained from train-validation split\n",
    "###  Use the mini-batch generator to get each mini-batch\n",
    "\n",
    "kappa = 120\n",
    "\n",
    "model = Single_layer_classifier(784,10,0.001)\n",
    "loss_per_minibatch = []\n",
    "minibatch = get_minibatch(train_imgs,train_labels,kappa)\n",
    "\n",
    "epochs = 10\n",
    "for e in range(epochs):\n",
    "    for iter_num,(input_x , input_y) in enumerate(minibatch):\n",
    "        input_x = input_x.reshape(input_x.shape[0],-1)\n",
    "        loss_per_epoc=[]\n",
    "        emp_error=[]\n",
    "        #Forward Pass\n",
    "\n",
    "        for i in range(kappa):\n",
    "\n",
    "            scores = model.forward(input_x[i])\n",
    "            onehot_vector = get_onehotencoding(input_y[i]);\n",
    "            loss_per_epoc.append(loss_function(onehot_vector,scores))\n",
    "            grad_for_loss = loss_backward(scores,onehot_vector)\n",
    "            emp_error.append(model.backward_Ldata(grad_for_loss,input_x[i]))\n",
    "\n",
    "     \n",
    "\n",
    "        loss_per_minibatch.append(loss_per_epoc[-1])\n",
    "\n",
    "        # Backward pass\n",
    "        gradient_descent = np.array(sum(emp_error))/kappa\n",
    "        model.backward(gradient_descent)\n",
    "\n",
    "\n",
    "        # Update weights\n",
    "\n",
    "        # Log the training loss value and training accuracy \n"
   ]
  },
  {
   "cell_type": "markdown",
   "metadata": {
    "id": "-yAtnPpFyh7S"
   },
   "source": [
    "### Plot the training loss and training accuracy plot"
   ]
  },
  {
   "cell_type": "code",
   "execution_count": 284,
   "metadata": {
    "id": "nTVa0w5cyh7S",
    "outputId": "d7c40293-112e-4da3-a09f-ca0fa803ce98"
   },
   "outputs": [
    {
     "data": {
      "image/png": "[encoded data removed]",
      "text/plain": [
       "<Figure size 432x288 with 1 Axes>"
      ]
     },
     "metadata": {
      "needs_background": "light"
     },
     "output_type": "display_data"
    },
    {
     "name": "stdout",
     "output_type": "stream",
     "text": [
      "------train accuracy -------------\n",
      "              precision    recall  f1-score   support\n",
      "\n",
      "           0       0.96      0.94      0.95      6055\n",
      "           1       0.96      0.94      0.95      6858\n",
      "           2       0.77      0.97      0.86      4729\n",
      "           3       0.87      0.89      0.88      5991\n",
      "           4       0.91      0.90      0.91      5913\n",
      "           5       0.71      0.93      0.81      4138\n",
      "           6       0.97      0.87      0.92      6621\n",
      "           7       0.94      0.91      0.92      6457\n",
      "           8       0.93      0.70      0.80      7756\n",
      "           9       0.85      0.92      0.88      5482\n",
      "\n",
      "    accuracy                           0.89     60000\n",
      "   macro avg       0.89      0.90      0.89     60000\n",
      "weighted avg       0.90      0.89      0.89     60000\n",
      "\n"
     ]
    }
   ],
   "source": [
    "plt.plot(loss_per_minibatch)\n",
    "plt.show()\n",
    "print(\"------train accuracy -------------\")\n",
    "from sklearn.metrics import classification_report, confusion_matrix\n",
    "y_pred =[]\n",
    "for input_x in train_imgs:\n",
    "    input_x = input_x.reshape(28*28,1)\n",
    "    scores = model.forward(input_x)\n",
    "    y_pred.append(np.argmax(scores))\n",
    "\n",
    "print(classification_report(y_pred,train_labels))"
   ]
  },
  {
   "cell_type": "markdown",
   "metadata": {
    "id": "RH22BqefpdZ4"
   },
   "source": [
    "### Find the accuracy on the validation set"
   ]
  },
  {
   "cell_type": "code",
   "execution_count": 285,
   "metadata": {
    "id": "kxpOU6ilyh7T"
   },
   "outputs": [
    {
     "name": "stdout",
     "output_type": "stream",
     "text": [
      "              precision    recall  f1-score   support\n",
      "\n",
      "           0       0.95      0.94      0.95      1204\n",
      "           1       0.94      0.94      0.94      1335\n",
      "           2       0.77      0.97      0.86       942\n",
      "           3       0.85      0.89      0.87      1163\n",
      "           4       0.91      0.91      0.91      1205\n",
      "           5       0.70      0.93      0.80       825\n",
      "           6       0.98      0.87      0.92      1304\n",
      "           7       0.95      0.91      0.93      1313\n",
      "           8       0.94      0.68      0.79      1594\n",
      "           9       0.85      0.92      0.89      1115\n",
      "\n",
      "    accuracy                           0.89     12000\n",
      "   macro avg       0.88      0.90      0.88     12000\n",
      "weighted avg       0.90      0.89      0.89     12000\n",
      "\n",
      "#############NOTE############\n",
      "The accuracy is best for lambda 0.0001 i.e 89%\n"
     ]
    }
   ],
   "source": [
    "#WRITE CODE\n",
    "## validation set accuracy \n",
    "from sklearn.metrics import classification_report, confusion_matrix\n",
    "\n",
    "def validate (train_imgs , train_labels):\n",
    "    n = train_imgs.shape[0]\n",
    "    validation_sets= n//5\n",
    "    indices = np.arange(n)\n",
    "    np.random.shuffle(indices)\n",
    "    validation_indices = indices[:validation_sets]\n",
    "    validation_train_imgs = train_imgs[validation_indices]\n",
    "    validation_train_labels =train_labels[validation_indices]\n",
    "    return validation_train_imgs,validation_train_labels\n",
    "validation_train_imgs,validation_train_labels= validate(train_imgs , train_labels)\n",
    "y_pred =[]\n",
    "for input_x in vali_data:\n",
    "    input_x = input_x.reshape(28*28,1)\n",
    "    scores = model.forward(input_x)\n",
    "    y_pred.append(np.argmax(scores))\n",
    "\n",
    "print(classification_report(y_pred,vali_label))\n",
    "print(\"#############NOTE############\")\n",
    "print(\"The accuracy is best for lambda 0.0001 i.e 89%\")"
   ]
  },
  {
   "cell_type": "code",
   "execution_count": 286,
   "metadata": {
    "id": "-HSUYHJKyh7T",
    "outputId": "ac2ac989-30c1-400c-d4e1-214e0c5a526a"
   },
   "outputs": [
    {
     "name": "stdout",
     "output_type": "stream",
     "text": [
      "------test accuracy -------------\n",
      "              precision    recall  f1-score   support\n",
      "\n",
      "           0       0.97      0.93      0.95      1022\n",
      "           1       0.97      0.95      0.96      1152\n",
      "           2       0.77      0.98      0.86       808\n",
      "           3       0.89      0.89      0.89      1012\n",
      "           4       0.92      0.90      0.91      1003\n",
      "           5       0.73      0.94      0.82       689\n",
      "           6       0.96      0.88      0.92      1052\n",
      "           7       0.93      0.90      0.91      1059\n",
      "           8       0.93      0.69      0.80      1314\n",
      "           9       0.82      0.93      0.87       889\n",
      "\n",
      "    accuracy                           0.89     10000\n",
      "   macro avg       0.89      0.90      0.89     10000\n",
      "weighted avg       0.90      0.89      0.89     10000\n",
      "\n"
     ]
    }
   ],
   "source": [
    "# WRITE CODE HERE\n",
    "print(\"------test accuracy -------------\")\n",
    "y_test_pred =[]\n",
    "for input_x in test_imgs:\n",
    "    input_x = input_x.reshape(28*28,1)\n",
    "    scores = model.forward(input_x)\n",
    "    y_test_pred.append(np.argmax(scores))\n",
    "\n",
    "print(classification_report(y_test_pred,test_labels))"
   ]
  },
  {
   "cell_type": "markdown",
   "metadata": {
    "id": "PPkegbwMyh7T"
   },
   "source": [
    "### Find the best performing class and the worst performing class"
   ]
  },
  {
   "cell_type": "markdown",
   "metadata": {
    "id": "Va9XhXmRyh7T"
   },
   "source": [
    "\n",
    "class 0, 1, 4, 6, and 9 have relatively high precision, recall, and f1-score values, suggesting that the model is performing well on these classes. On the other hand, class 7,8 has a relatively low precision score"
   ]
  },
  {
   "cell_type": "markdown",
   "metadata": {
    "id": "3gGF2ss3yh7T"
   },
   "source": [
    "# Training a Linear Classifier on MNIST from scikit-learn\n",
    "\n",
    "In this section you have to train a linear classifier from the scikit-learn library and compare its results against your implementation.\n",
    "(https://scikit-learn.org/stable/modules/generated/sklearn.linear_model.LinearRegression.html)"
   ]
  },
  {
   "cell_type": "code",
   "execution_count": 173,
   "metadata": {
    "id": "bH3f2dueyh7T",
    "outputId": "8a9f0824-be0b-4399-f5a6-44706d6cb717"
   },
   "outputs": [
    {
     "name": "stdout",
     "output_type": "stream",
     "text": [
      "(60000, 784) (60000,)\n",
      "0.8577333333333333\n"
     ]
    },
    {
     "data": {
      "text/plain": [
       "0.8603"
      ]
     },
     "execution_count": 173,
     "metadata": {},
     "output_type": "execute_result"
    }
   ],
   "source": [
    "# WRITE CODE HERE\n",
    "\n",
    "%matplotlib inline\n",
    "\n",
    "\n",
    "X=train_imgs.reshape(train_imgs.shape[0],-1)\n",
    "y=train_labels\n",
    "\n",
    "print(X.shape,y.shape)\n",
    "clf = RidgeClassifier().fit(X, y)\n",
    "print(clf.score(X, y))\n",
    "\n",
    "clf.score(test_imgs.reshape(test_imgs.shape[0],-1), test_labels)\n"
   ]
  },
  {
   "cell_type": "code",
   "execution_count": null,
   "metadata": {
    "id": "yGDk4Xg9yh7T"
   },
   "outputs": [],
   "source": []
  },
  {
   "cell_type": "markdown",
   "metadata": {
    "id": "hky9pbsKyh7T"
   },
   "source": [
    "### Compare the training and test accuracies for the your implementation and linear classifier from scikit-learn"
   ]
  },
  {
   "cell_type": "code",
   "execution_count": null,
   "metadata": {
    "id": "lL8U4omFyh7T"
   },
   "outputs": [],
   "source": [
    "    # WRITE CODE HERE"
   ]
  },
  {
   "cell_type": "markdown",
   "metadata": {
    "id": "jS2izFJnyh7T"
   },
   "source": [
    "### Any additional observations / comments?"
   ]
  },
  {
   "cell_type": "code",
   "execution_count": null,
   "metadata": {
    "id": "wp3ZxTA3yh7T"
   },
   "outputs": [],
   "source": []
  },
  {
   "cell_type": "markdown",
   "metadata": {
    "id": "RDIM1b1eyh7T"
   },
   "source": [
    "## BONUS Question\n",
    "### Observe the effect on test set accuracy by changing the number of training samples.\n",
    "### Train on 10%, 20% and 50% training data and plot the percentage of training data v.s. the test accuracy.  "
   ]
  },
  {
   "cell_type": "code",
   "execution_count": null,
   "metadata": {
    "id": "2FdsaFX5yh7T"
   },
   "outputs": [],
   "source": [
    "# WRITE CODE HERE"
   ]
  },
  {
   "cell_type": "markdown",
   "metadata": {
    "id": "sXFJTTnkpdcp"
   },
   "source": [
    "# Implementing Backpropagation\n",
    "\n",
    "Now that you have had some experience with single layer networks, we can proceed to more complex architectures. But first we need to completely understand and implement backpropagation.\n",
    "\n",
    "## Backpropagation:\n",
    "\n",
    "Simply put, a way of computing gradients of expressions through repeated application of chain rule. If\n",
    "$$\n",
    "L = f (g (h (\\textbf{x})))\n",
    "$$\n",
    "then, by the chain rule we have:\n",
    "$$\n",
    "\\frac{\\partial L}{\\partial \\textbf{x}} = \\frac{\\partial f}{\\partial g} \\cdot \\frac{\\partial g}{\\partial h} \\cdot \\frac{\\partial h}{\\partial \\textbf{x}} \n",
    "$$\n",
    "\n",
    "** Look into the class Lecture for more detail **\n",
    "\n"
   ]
  },
  {
   "cell_type": "markdown",
   "metadata": {
    "id": "UixM41Rppdcz"
   },
   "source": [
    "# Question 2 : Scalar Backpropagation\n",
    "\n",
    "Evaluate the gradient of the following function w.r.t. the input:\n",
    "\n",
    "$$ f(x,y,z) =  log(\\sigma(\\frac{cos(\\pi \\times x)+sin(\\pi \\times y/2)}{tanh(z^2)}))$$\n",
    "where $\\sigma$ is the sigmoid function. Find gradient for the following inputs:\n",
    "  * $(x,y,z)$ =  (2,4,1)\n",
    "  * $(x,y,z)$ =  (9,14,3)\n",
    "  * $(x,y,z)$ =  (128,42,666)\n",
    "  * $(x,y,z)$ =  (52,14,28)\n",
    "\n",
    "      "
   ]
  },
  {
   "cell_type": "code",
   "execution_count": null,
   "metadata": {
    "id": "Uu9zd5PLpdc_"
   },
   "outputs": [],
   "source": [
    "# To solve this problem, construct the computational graph\n",
    "# Write a class with forward and backward functions, for each node if you like\n",
    "# For eg:\n",
    "\n",
    "        \n",
    "class Sigmoid():\n",
    "    def __init__(self):\n",
    "        self.func = None\n",
    "        self.input_v =None\n",
    "        \n",
    "    def forward(self,input_v):\n",
    "        self.func = 1/(1+np.exp(-1*input_v))\n",
    "        self.input_v = input_v\n",
    "        return self.func\n",
    "        # save values useful for backpropagation\n",
    "    def backward(self):\n",
    "        if self.func==None or self.input_v==None:\n",
    "            return\n",
    "        else:\n",
    "            return self.func*(1-self.func)\n",
    "        \n",
    "class Log():\n",
    "    def __init__(self):\n",
    "        self.func = None\n",
    "        self.input_v =None\n",
    "    \n",
    "    def forward(self,input_v):\n",
    "        self.func = np.log(input_v)\n",
    "        self.input_v = input_v\n",
    "        \n",
    "        return self.func\n",
    "    \n",
    "    def backward(self):\n",
    "        \n",
    "        if self.func==None or self.input_v==None:\n",
    "            return\n",
    "        else:\n",
    "            return 1/self.input_v\n",
    "        \n",
    "class Tanh():\n",
    "    def __init__(self):\n",
    "        self.func = None\n",
    "        self.input_v =None\n",
    "        \n",
    "    def forward(self,input_v):\n",
    "        self.func= np.tanh(input_v)\n",
    "        self.input_v = input_v\n",
    "        return self.func\n",
    "    \n",
    "    def backward(self):\n",
    "        if self.func== None or self.input_v==None:\n",
    "            return \n",
    "        else:\n",
    "            return (1-np.square(self.func))\n",
    "    \n",
    "class Cos():\n",
    "    def __init__(self):\n",
    "        self.func = None\n",
    "        self.input_v =None\n",
    "        \n",
    "    def forward(self,input_v):\n",
    "        self.func= np.cos(input_v)\n",
    "        self.input_v = input_v\n",
    "        return self.func\n",
    "    \n",
    "    def backward(self):\n",
    "        if self.func==None or self.input_v==None:\n",
    "            return \n",
    "        else:\n",
    "            return -1*np.sin(self.input_v)\n",
    "        \n",
    "class Sin():\n",
    "    def __init__(self):\n",
    "        self.func=None\n",
    "        self.input =None\n",
    "    \n",
    "    def forward(self,input_v):\n",
    "        self.func = np.sin(input_v)\n",
    "        \n",
    "        self.input_v = input_v\n",
    "        return self.func\n",
    "    \n",
    "    def backward(self):\n",
    "        if self.func==None or self.input_v==None:\n",
    "            return\n",
    "        else:\n",
    "            return np.cos(self.input_v)\n",
    "# CAUTION: Carefully treat the input and output dimension variation. At worst, handle them with if statements."
   ]
  },
  {
   "cell_type": "code",
   "execution_count": null,
   "metadata": {
    "id": "KyqeWPF0pddy",
    "outputId": "677c57d1-a03c-4957-baf8-064687cba8a0"
   },
   "outputs": [
    {
     "name": "stdout",
     "output_type": "stream",
     "text": [
      "2.0 4.0 1.0 -0.23823101469115085 [0, 0.43720979194276516, -0.3069722756588883]\n",
      "9.0 14.0 3.0 -1.3132617097862371 [0, -1.1483441743695977, 0]\n",
      "52.0 14.0 28.0 -0.31326168751822253 [0, -0.42245219681098645, 0]\n"
     ]
    }
   ],
   "source": [
    "# Now write the class func\n",
    "# which constructs the graph (all operators), forward and backward functions.\n",
    "\n",
    "class Func():\n",
    "    def __init__(self):\n",
    "        # construct the graph here\n",
    "        # assign the instances of function modules to self.var\n",
    "        self.x=None\n",
    "        self.y=None\n",
    "        self.z=None\n",
    "        self.n_1=None\n",
    "        self.n_2=None\n",
    "        self.n_3=None\n",
    "        self.n_4=None\n",
    "        self.n_5=None\n",
    "        self.n_6=None\n",
    "        self.n_7=None\n",
    "        self.n_8=None\n",
    "        self.n_9=None\n",
    "        self.n_10=None\n",
    "        self.tanh = Tanh()\n",
    "        self.cos = Cos()\n",
    "        self.sin = Sin()\n",
    "        self.log = Log()\n",
    "        self.sigmoid = Sigmoid()\n",
    "        \n",
    "    def forward(self,x,y,z):\n",
    "        \n",
    "        self.x ,self.y,self.z = x,y,z\n",
    "        self.n_1 = math.pi*self.x\n",
    "        self.n_2 = math.pi*self.y/2\n",
    "        self.n_3 = np.square(self.z)\n",
    "        self.n_4 = self.cos.forward(self.n_1)\n",
    "        self.n_5 = self.sin.forward(self.n_2)\n",
    "        self.n_6 = self.n_4 + self.n_5\n",
    "        self.n_7 = self.tanh.forward(self.n_3)\n",
    "        self.n_8 = np.divide(self.n_6,self.n_7)\n",
    "        self.n_9 = self.sigmoid.forward(self.n_8)\n",
    "        self.n_10 = self.log.forward(self.n_9)\n",
    "        output = self.n_10\n",
    "     \n",
    "        # Using the graph element's forward functions, get the output. \n",
    "        \n",
    "        return output\n",
    "    \n",
    "    def backward(self):\n",
    "        # Use the saved outputs of each module, and backward() function calls\n",
    "        \n",
    "        grad_x,grad_y,grad_z =1,1,1\n",
    "        out = self.log.backward()\n",
    "#         print(\"log_backward\", out)\n",
    "        out = out*self.sigmoid.backward()\n",
    "#         print(self.sigmoid.func)\n",
    "#         print(\"sigmoid_inp\",self.sigmoid.input_v)\n",
    "#         print(\"sigmoid_backward\",out)\n",
    "        grad_xy  = out/(self.n_7) ## backward of divide\n",
    "#         print(\"output_xy\",self.n_6)\n",
    "#         print(\"output_tanh\",self.n_7)\n",
    "#         print(\"grad_xy\",grad_xy)\n",
    "        grad_x = self.cos.backward()*grad_xy\n",
    "#         print(\"cos_output\",self.cos.func)\n",
    "#         print(\"sin_output\",self.sin.func)\n",
    "#         print(\"grad_x\",grad_x)\n",
    "        grad_x = math.pi*(grad_x)\n",
    "        grad_x =0 if (abs(grad_x))<10**(-5) else grad_x\n",
    "        #print(\"grad\")\n",
    "        grad_y = self.sin.backward()*grad_xy\n",
    "        #print(\"grad_y\",grad_y)\n",
    "        grad_y = math.pi*grad_y/2\n",
    "        grad_y = 0 if abs(grad_y)<10**(-5) else grad_y\n",
    "        \n",
    "        grad_z = -out*self.n_6*(1/np.square(self.n_7)) ## (-x/y^2)*output\n",
    "        #print(\"grad_z\",grad_z)\n",
    "        grad_z = grad_z*(self.tanh.backward())\n",
    "        grad_z = 2*self.z*grad_z\n",
    "        grad_z = 0 if abs(grad_z)<10**(-5) else grad_z\n",
    "        return [grad_x,grad_y,grad_z]\n",
    "    \n",
    "\n",
    "f= Func()\n",
    "x,y,z = 2.0,4.0,1.0\n",
    "output = f.forward(x,y,z)\n",
    "print(x,y,z , f.forward(x,y,z),f.backward())\n",
    "x,y,z = 9.0,14.0,3.0\n",
    "output = f.forward(x,y,z)\n",
    "print(x,y,z , f.forward(x,y,z),f.backward())\n",
    "x,y,z = 52.0,14.0,28.0\n",
    "output = f.forward(x,y,z)\n",
    "print(x,y,z , f.forward(x,y,z),f.backward())"
   ]
  },
  {
   "cell_type": "markdown",
   "metadata": {
    "id": "TdPGPkWfyh7U"
   },
   "source": [
    "## Compare Results with Pytorch\n"
   ]
  },
  {
   "cell_type": "code",
   "execution_count": null,
   "metadata": {
    "id": "zOHpLnneyh7U",
    "outputId": "d53d9dbd-56e6-4a40-e5a5-64103b2fd848"
   },
   "outputs": [
    {
     "name": "stdout",
     "output_type": "stream",
     "text": [
      "tensor(-1.3133, grad_fn=<LogBackward0>)\n",
      "tensor(1.6433e-07) tensor(-1.1483) tensor(5.2289e-07)\n"
     ]
    }
   ],
   "source": [
    "import torch\n",
    "\n",
    "def f(x, y, z):\n",
    "    return torch.log(torch.sigmoid((torch.cos(torch.tensor(np.pi) * x) + torch.sin(torch.tensor(np.pi) * y / 2)) / torch.tanh(z ** 2)))\n",
    "#x,y,z = 2.0,4.0,1.0\n",
    "x,y,z = 9.0,14.0,3.0\n",
    "#x,y,z = 52.0,14.0,28.0\n",
    "\n",
    "x = torch.tensor(x, requires_grad=True)\n",
    "y = torch.tensor(y, requires_grad=True)\n",
    "z = torch.tensor(z, requires_grad=True)\n",
    "\n",
    "out = f(x, y, z)\n",
    "print(out)\n",
    "out.backward()\n",
    "\n",
    "dx = x.grad\n",
    "dy = y.grad\n",
    "dz = z.grad\n",
    "print(dx,dy,dz)"
   ]
  },
  {
   "cell_type": "markdown",
   "metadata": {
    "id": "rYE4dEd-pdef"
   },
   "source": [
    "## Question 3 : Modular Vector Backpropagation\n",
    "\n",
    "* Construct a Linear Layer module, implementing the forward and backward functions for arbitrary sizes.\n",
    "* Construct a ReLU module, implementing the forward and backward functions for arbitrary sizes.\n",
    "* Create a 2 layer MLP using the constructed modules.\n",
    "\n",
    "* Modifying the functions built in Question 1 , train this two layer MLP for the same data set, MNIST, with the same train-val split."
   ]
  },
  {
   "cell_type": "code",
   "execution_count": 254,
   "metadata": {
    "id": "0viOMFfFpden"
   },
   "outputs": [],
   "source": [
    "# Class for Linear Layer (If you're stuck, you can refer to code of PyTorch/Tensorflow packages) \n",
    "class Linear_Layer:\n",
    "    def __init__(self, input_size, output_size,batch_size,eta):\n",
    "        self.input= None\n",
    "        self.output= None\n",
    "        self.eta = eta\n",
    "        self.lmbd=0.0001\n",
    "        self.batch_size = batch_size\n",
    "        self.weights = np.random.rand(input_size, output_size)*0.001\n",
    "        self.gradient_matrix = np.zeros(shape=(input_size,output_size))\n",
    "    \n",
    "    def forward(self, input_data):\n",
    "        self.input = input_data.reshape(input_data.shape[0],1)\n",
    "        self.output = np.dot( self.weights.T, self.input)\n",
    "        return self.output\n",
    "    \n",
    "    def backward_ldata(self,grad_from_loss):\n",
    "        propogated_grad = np.matmul( self.weights,grad_from_loss)\n",
    "        self.gradient_matrix += np.dot(self.input, grad_from_loss.T)\n",
    "        return propogated_grad  \n",
    "        \n",
    "        \n",
    "    def backward(self):\n",
    "        self.weights =self.weights- eta * (self.gradient_matrix+self.lmbd*2*self.weights)/self.batch_size\n",
    "        self.gradient_matrix = np.zeros_like(self.weights) ##flush out gradient\n",
    "        \n",
    "    \n",
    " \n"
   ]
  },
  {
   "cell_type": "code",
   "execution_count": 255,
   "metadata": {
    "id": "zmlWuzv1pdfK"
   },
   "outputs": [],
   "source": [
    "# Class for ReLU\n",
    "class ReLU () :\n",
    "    def __init__(self):\n",
    "        self.input_data = None\n",
    "    def forward(self,inp):\n",
    "        self.input_data = inp\n",
    "        inp[inp<0] = 0\n",
    "       \n",
    "        return inp\n",
    "    def backward_ldata(self,prev_grad):\n",
    "        return prev_grad*(self.input_data > 0)\n",
    "    \n",
    "    def backward(self):\n",
    "        return\n",
    "    "
   ]
  },
  {
   "cell_type": "code",
   "execution_count": 256,
   "metadata": {
    "id": "ppSfRLySpdfv"
   },
   "outputs": [],
   "source": [
    "# Your 2 layer MLP \n",
    "class MLP():\n",
    "    def __init__(self):\n",
    "        self.layers = []\n",
    "        self.loss = []\n",
    "    \n",
    "    def add_layer(self,layer):\n",
    "        self.layers.append(layer)\n",
    "            \n",
    "    def predict(self, input_data):\n",
    "        samples = input_data.shape[0]\n",
    "        result = []\n",
    "\n",
    "        # run network over all samples\n",
    "        \n",
    "        for sample in input_data:\n",
    "            # forward propagation\n",
    "            \n",
    "            scores = sample\n",
    "            for layer in self.layers:\n",
    "                scores = layer.forward(scores)\n",
    "#                 print(output,end=' ')\n",
    "                \n",
    "            result.append(np.argmax(scores))\n",
    "        return result\n",
    "    \n",
    "    def loss_function(input_y,scores):\n",
    "        x=-1*sum(scores*input_y)\n",
    "        loss = x + math.log(sum(np.exp(scores))+0.0001)\n",
    "        return loss\n",
    "\n",
    "\n",
    "    def loss_backward(scores,input_y):\n",
    "        grad_part = np.exp(scores)/sum(np.exp(scores))\n",
    "        grad_part = grad_part.reshape(grad_part.shape[0],1)\n",
    "        grad_from_loss = np.subtract(grad_part,input_y)\n",
    "        return grad_from_loss\n",
    "    \n",
    "    def train(self,X,y,epochs,batch_size,eta):\n",
    "        batch_losses = []\n",
    "        min_loss =10000 \n",
    "        for epoch in range(epochs):\n",
    "            minibatch = get_minibatch(X,y,batch_size)\n",
    "            loss =0           \n",
    "            for iter_num ,(input_x , input_y) in enumerate(minibatch):\n",
    "                for i in range(batch_size):\n",
    "                    input_x = input_x.reshape(input_x.shape[0],-1)\n",
    "                    scores = input_x[i]\n",
    "                    ####### forward ##########\n",
    "                    for layer in self.layers:\n",
    "                        scores = layer.forward(scores)\n",
    "                    hot_encoded = get_onehotencoding(input_y[i])\n",
    "                    loss += loss_function(scores,hot_encoded)\n",
    "                    \n",
    "                    grad_for_loss = loss_backward(scores,hot_encoded)\n",
    "                    \n",
    "                    ####### backward sample wise to calculate gradient_matrix #######\n",
    "                    for layer in reversed(self.layers):\n",
    "                        grad_for_loss = layer.backward_ldata(grad_for_loss)\n",
    "\n",
    "\n",
    "            \n",
    "                self.loss.append(loss/batch_size)\n",
    "\n",
    "                min_loss = min(min_loss,self.loss[-1])\n",
    "                \n",
    "                ##### weights update for each layer using backward\n",
    "                for layer in self.layers:\n",
    "                    layer.backward()\n",
    "                loss=0\n",
    "            \n",
    "        plt.plot(self.loss)\n"
   ]
  },
  {
   "cell_type": "code",
   "execution_count": 257,
   "metadata": {
    "colab": {
     "base_uri": "https://localhost:8080/",
     "height": 240
    },
    "id": "MyDbNSeRpdgL",
    "outputId": "d0f2556c-2fad-49d2-cde3-a740da852f34"
   },
   "outputs": [
    {
     "data": {
      "image/png": "[encoded data removed]",
      "text/plain": [
       "<Figure size 432x288 with 1 Axes>"
      ]
     },
     "metadata": {
      "needs_background": "light"
     },
     "output_type": "display_data"
    }
   ],
   "source": [
    "####### hyperparameters ########\n",
    "epochs = 2\n",
    "batch_size =50\n",
    "output_size = 10\n",
    "input_size = 784\n",
    "eta = 0.01\n",
    "\n",
    "# Train the MLP\n",
    "mlp = MLP()\n",
    "\n",
    "##### add layer #####\n",
    "mlp.add_layer(Linear_Layer(input_size,512,batch_size,eta))\n",
    "mlp.add_layer(ReLU())\n",
    "\n",
    "mlp.add_layer(Linear_Layer(512,256,batch_size,eta))\n",
    "mlp.add_layer(ReLU())\n",
    "mlp.add_layer(Linear_Layer(256,10,batch_size,eta))\n",
    "\n",
    "\n",
    "\n",
    "mlp.train(train_imgs,train_labels,epochs,batch_size,eta)"
   ]
  },
  {
   "cell_type": "markdown",
   "metadata": {
    "id": "h6fYBqwyyh7U"
   },
   "source": [
    "### Plot the training loss and training accuracy plot"
   ]
  },
  {
   "cell_type": "code",
   "execution_count": 211,
   "metadata": {
    "id": "uzXttRsnyh7U"
   },
   "outputs": [
    {
     "name": "stdout",
     "output_type": "stream",
     "text": [
      "############ Training Accuracy Using MLP #################\n",
      "              precision    recall  f1-score   support\n",
      "\n",
      "           0       0.99      0.99      0.99      5935\n",
      "           1       0.99      0.99      0.99      6769\n",
      "           2       0.98      0.98      0.98      5952\n",
      "           3       0.96      0.98      0.97      6001\n",
      "           4       0.99      0.89      0.94      6471\n",
      "           5       0.95      0.99      0.97      5222\n",
      "           6       0.95      0.99      0.97      5660\n",
      "           7       0.98      0.97      0.98      6311\n",
      "           8       0.98      0.94      0.96      6110\n",
      "           9       0.91      0.98      0.94      5569\n",
      "\n",
      "    accuracy                           0.97     60000\n",
      "   macro avg       0.97      0.97      0.97     60000\n",
      "weighted avg       0.97      0.97      0.97     60000\n",
      "\n",
      "############ Test Accuracy Using MLP #################\n",
      "              precision    recall  f1-score   support\n",
      "\n",
      "           0       0.99      0.97      0.98       995\n",
      "           1       0.99      0.99      0.99      1139\n",
      "           2       0.97      0.98      0.97      1026\n",
      "           3       0.97      0.98      0.97      1004\n",
      "           4       0.98      0.90      0.94      1078\n",
      "           5       0.94      0.99      0.97       851\n",
      "           6       0.93      0.99      0.96       895\n",
      "           7       0.97      0.97      0.97      1031\n",
      "           8       0.98      0.92      0.95      1033\n",
      "           9       0.92      0.98      0.95       948\n",
      "\n",
      "    accuracy                           0.96     10000\n",
      "   macro avg       0.96      0.97      0.96     10000\n",
      "weighted avg       0.97      0.96      0.96     10000\n",
      "\n"
     ]
    },
    {
     "data": {
      "text/plain": [
       "<Figure size 720x864 with 0 Axes>"
      ]
     },
     "metadata": {},
     "output_type": "display_data"
    }
   ],
   "source": [
    "from sklearn.metrics import classification_report, confusion_matrix\n",
    "\n",
    "\n",
    "\n",
    "print(\"############ Training Accuracy Using MLP #################\")\n",
    "y_train_pred =mlp.predict(train_imgs.reshape(train_imgs.shape[0],-1))\n",
    "print(classification_report(y_train_pred,train_labels))\n",
    "\n",
    "\n",
    "print(\"############ Test Accuracy Using MLP #################\")\n",
    "y_test_pred = mlp.predict(test_imgs.reshape(test_imgs.shape[0],-1))\n",
    "plt.figure(figsize=(10,12))\n",
    "print(classification_report(y_test_pred,test_labels))\n",
    "\n"
   ]
  },
  {
   "cell_type": "code",
   "execution_count": null,
   "metadata": {
    "id": "sba7CpkCyh7U"
   },
   "outputs": [],
   "source": [
    "### Find the accuracy on the validation set"
   ]
  },
  {
   "cell_type": "code",
   "execution_count": null,
   "metadata": {
    "id": "WCfpEfo6yh7U"
   },
   "outputs": [],
   "source": [
    "# WRITE CODE HERE"
   ]
  },
  {
   "cell_type": "code",
   "execution_count": null,
   "metadata": {
    "id": "xeZbDhpnyh7U"
   },
   "outputs": [],
   "source": [
    "# Find the optimal value of learning rate and batch size. \n",
    "# Use the same tuning strategy as the previous question\n",
    "# Create plot and table to show the effect of the hparams."
   ]
  },
  {
   "cell_type": "code",
   "execution_count": null,
   "metadata": {
    "id": "x1Sx9kRHyh7V"
   },
   "outputs": [],
   "source": [
    "### Report final performance on MNIST test set"
   ]
  },
  {
   "cell_type": "code",
   "execution_count": null,
   "metadata": {
    "id": "1F1w6Elyyh7V"
   },
   "outputs": [],
   "source": [
    "# WRITE CODE HERE"
   ]
  },
  {
   "cell_type": "markdown",
   "metadata": {
    "id": "bWzDasJLyh7V"
   },
   "source": [
    "### Find the best performing class and the worst performing class"
   ]
  },
  {
   "cell_type": "code",
   "execution_count": null,
   "metadata": {
    "id": "5wBlWKHRyh7V"
   },
   "outputs": [],
   "source": [
    "# WRITE CODE HERE"
   ]
  },
  {
   "cell_type": "markdown",
   "metadata": {
    "id": "WrSYhTjvyh7V"
   },
   "source": [
    "### Any additional observations / comments?"
   ]
  },
  {
   "cell_type": "code",
   "execution_count": null,
   "metadata": {
    "id": "yWq_3y3-yh7V"
   },
   "outputs": [],
   "source": []
  },
  {
   "cell_type": "markdown",
   "metadata": {
    "id": "dF2_z0_6yh7V"
   },
   "source": [
    "## BONUS Question\n",
    "### Observe the effect on test set accuracy by changing the number of training samples.\n",
    "### Train on 10%, 20% and 50% training data and plot the percentage of training data v.s. the test accuracy.  "
   ]
  },
  {
   "cell_type": "code",
   "execution_count": null,
   "metadata": {
    "id": "hQxvGmc4yh7V"
   },
   "outputs": [],
   "source": [
    "# WRITE CODE HERE"
   ]
  },
  {
   "cell_type": "markdown",
   "metadata": {
    "id": "KX-cXeY3pdhr"
   },
   "source": [
    "\n",
    "# Implementing a Convolution Module with Numpy\n",
    "\n",
    "* This topic will require you to implement the Convolution operation using Numpy.\n",
    "* We will use the Module for tasks like Blurring.\n",
    "* Finally, we implement Backpropagation for the convolution module.\n"
   ]
  },
  {
   "cell_type": "markdown",
   "metadata": {
    "id": "kHeieqicpdhz"
   },
   "source": [
    "## Question 4\n",
    "\n",
    "* Implement a naive Convolution module, with basic functionalities: kernel_size, padding, stride and dilation\n",
    "  \n",
    "* Test out the convolution layer by using it to do gaussian blurring on 10 random images of CIFAR-10 dataset\n"
   ]
  },
  {
   "cell_type": "code",
   "execution_count": 288,
   "metadata": {
    "id": "YoVvSEj0pdh5"
   },
   "outputs": [],
   "source": [
    "import numpy as np\n",
    "\n",
    "class Convolution_Layer:\n",
    "    \n",
    "    def __init__(self, in_channels, out_channels, filter_size, bias=True, stride=1,eta=0.000001):\n",
    "        self.in_channels = in_channels\n",
    "        self.out_channels = out_channels\n",
    "        self.filter_size = filter_size\n",
    "        self.stride = stride\n",
    "        self.eta = eta\n",
    "        self.weights = np.random.rand(out_channels, filter_size[0], filter_size[1], in_channels)*0.001/np.sqrt(filter_size[0]**2*in_channels*out_channels)\n",
    "        self.gradient_weights = np.zeros_like(self.weights)\n",
    "        self.input_v = None\n",
    "        self.output = None\n",
    "        \n",
    "    def forward(self, input_v):\n",
    "        self.input_v =  input_v\n",
    "        \n",
    "        height, width, channels = self.input_v.shape\n",
    "        output_height = (height - self.filter_size[0])//self.stride + 1\n",
    "        output_width = (width - self.filter_size[1] )//self.stride + 1\n",
    "        self.output = np.zeros((output_height, output_width, self.out_channels))\n",
    "        \n",
    "        for b in range(len(input_v)):\n",
    "            for i in range(output_height):\n",
    "                for j in range(output_width):\n",
    "                    for k in range(0,self.out_channels):\n",
    "                        h_start = i *self.stride\n",
    "                        h_end = h_start + self.filter_size[0]\n",
    "                        w_start = j *self.stride\n",
    "                        w_end = w_start + self.filter_size[1]\n",
    "                       \n",
    "                        x = self.weights[k,:,:,:] * self.input_v[h_start:h_end, w_start:w_end, :self.in_channels]\n",
    "                        #print(\"x=\",x.shape)\n",
    "                        self.output[i, j, k] = np.sum(x)\n",
    "        return self.output\n",
    "    \n",
    "    def backward(self, output_gradient):\n",
    "        output_height, output_width,_ = output_gradient.shape\n",
    "        input_gradient = np.zeros_like(self.input_v,dtype='float64')\n",
    "        batch_size = len(self.input_v)\n",
    "        #print(output_gradient)\n",
    "        for b in range(batch_size):\n",
    "            for i in range(output_height):\n",
    "                for j in range(output_width):\n",
    "                    for k in range(self.out_channels):\n",
    "                        h_start = i * self.stride\n",
    "                        h_end = h_start + self.filter_size[0]\n",
    "                        w_start = j * self.stride\n",
    "                        w_end = w_start + self.filter_size[1]\n",
    "                        input_gradient[h_start:h_end, w_start:w_end, :] += np.rot90(np.rot90(self.weights[k])) * output_gradient[i, j, k]\n",
    "                        self.gradient_weights[k,:,:,:] += self.input_v[h_start:h_end, w_start:w_end, :] * output_gradient[ i, j, k]\n",
    "        \n",
    "        #print(self.gradient_weights)\n",
    "       \n",
    "        \n",
    "            \n",
    "        return input_gradient\n",
    "    \n",
    "    def set_weights(self, new_weights):\n",
    "        self.weights = new_weights\n",
    "        \n",
    "    \n"
   ]
  },
  {
   "cell_type": "markdown",
   "metadata": {
    "id": "TDoqiua8pdia"
   },
   "source": [
    "### Download CIFAR-10 images and load it in a numpy array (https://www.cs.toronto.edu/~kriz/cifar.html)\n",
    "\n"
   ]
  },
  {
   "cell_type": "code",
   "execution_count": 213,
   "metadata": {
    "id": "EBvI3Wluyh7V",
    "outputId": "c1a25ece-6d41-4854-e0f0-9d13daabd686"
   },
   "outputs": [],
   "source": [
    "# WRITE CODE HERE\n",
    "import pickle\n",
    "\n",
    "def unpickle(file):\n",
    "    with open(file, 'rb') as fo:\n",
    "        dict = pickle.load(fo, encoding='bytes')\n",
    "    return dict\n",
    "s=unpickle(\"cifar-10-batches-py/data_batch_1\")\n"
   ]
  },
  {
   "cell_type": "markdown",
   "metadata": {
    "id": "50HugE-Hyh7V"
   },
   "source": [
    "### Initialize a conv layer. Set weights for gaussian blurring (do not train the filter for this part). Visualise the filters using matplotlib\n"
   ]
  },
  {
   "cell_type": "code",
   "execution_count": 214,
   "metadata": {
    "id": "Y5QIAsNDyh7V",
    "outputId": "dd6ab242-92fd-4fd9-f998-36029c6b8bf1"
   },
   "outputs": [],
   "source": [
    "# WRITE CODE HERE\n",
    "# WRITE CODE HERE\n",
    "def generate_gaussian_filter(sigma,filter_shape):\n",
    "    # 'sigma' is the standard deviation of the gaussian distribution\n",
    "\n",
    "    d,h,w = filter_shape\n",
    "  \n",
    "    # initializing the filter\n",
    "    gaussian_filter = np.zeros(filter_shape)\n",
    "    #print(\"yaha\")\n",
    "    # generating the filter\n",
    "    for x in range(d):\n",
    "        for y in range(h):\n",
    "            for z in range(w):\n",
    "                normal = 1 / (2.0 * np.pi * sigma**2.0)\n",
    "                exp_term = np.exp(-(y**2.0 + z**2.0) / (2.0 * sigma**2.0))\n",
    "                gaussian_filter[x][y][z] = normal * exp_term\n",
    "    \n",
    "    return gaussian_filter"
   ]
  },
  {
   "cell_type": "code",
   "execution_count": 261,
   "metadata": {},
   "outputs": [
    {
     "name": "stdout",
     "output_type": "stream",
     "text": [
      "b'bufo_marinus_s_001506.png'\n",
      "(100, 32, 32, 3) (100,)\n"
     ]
    },
    {
     "data": {
      "text/plain": [
       "6"
      ]
     },
     "execution_count": 261,
     "metadata": {},
     "output_type": "execute_result"
    },
    {
     "data": {
      "image/png": "[encoded data removed]",
      "text/plain": [
       "<Figure size 432x288 with 1 Axes>"
      ]
     },
     "metadata": {
      "needs_background": "light"
     },
     "output_type": "display_data"
    }
   ],
   "source": [
    "# WRITE CODE HERE\n",
    "cf_train_imgs = []\n",
    "cf_train_labels= []\n",
    "\n",
    "s = unpickle(\"cifar-10-batches-py/data_batch_1\")\n",
    "b_imgs = []\n",
    "b_labels  = np.array(s[b'labels'])\n",
    "for j in range(10000):\n",
    "    img = s[b'data'][j].reshape(3,32,32).transpose(1,2,0)/255\n",
    "    b_imgs.append(img)\n",
    "b_imgs = np.array(b_imgs)    \n",
    "ind = list(range(10000))\n",
    "np.random.shuffle(ind)\n",
    "# print(ind[100])\n",
    "train_imgs =b_imgs[ind[:100],:]\n",
    "train_labels = b_labels[ind[:100]]\n",
    "\n",
    "print(s[b'filenames'][ind[15]])\n",
    "print(train_imgs.shape,train_labels.shape)\n",
    "plt.imshow(train_imgs[15])\n",
    "train_labels[15]"
   ]
  },
  {
   "cell_type": "code",
   "execution_count": 262,
   "metadata": {},
   "outputs": [
    {
     "data": {
      "text/plain": [
       "<matplotlib.image.AxesImage at 0x7fd6caff1dc0>"
      ]
     },
     "execution_count": 262,
     "metadata": {},
     "output_type": "execute_result"
    },
    {
     "data": {
      "image/png": "[encoded data removed]",
      "text/plain": [
       "<Figure size 432x288 with 1 Axes>"
      ]
     },
     "metadata": {
      "needs_background": "light"
     },
     "output_type": "display_data"
    }
   ],
   "source": [
    "x= np.reshape([i*0.1 for i in range(784*3)],(28,28,3))\n",
    "cl = Convolution_Layer(3,1,(3,3),stride=1,padding=0)\n",
    "f = cl.forward(train_imgs[15])\n",
    "plt.imshow(f)"
   ]
  },
  {
   "cell_type": "code",
   "execution_count": 263,
   "metadata": {},
   "outputs": [
    {
     "name": "stdout",
     "output_type": "stream",
     "text": [
      "(3, 3, 3)\n"
     ]
    },
    {
     "data": {
      "text/plain": [
       "<matplotlib.image.AxesImage at 0x7fd6a00d3130>"
      ]
     },
     "execution_count": 263,
     "metadata": {},
     "output_type": "execute_result"
    },
    {
     "data": {
      "image/png": "[encoded data removed]",
      "text/plain": [
       "<Figure size 432x288 with 1 Axes>"
      ]
     },
     "metadata": {
      "needs_background": "light"
     },
     "output_type": "display_data"
    }
   ],
   "source": [
    "gaussian_blur = generate_gaussian_filter(2,(3,3,3))\n",
    "print(gaussian_blur.shape)\n",
    "cl.set_weights(gaussian_blur.reshape(1,3,3,3))\n",
    "\n",
    "f = cl.forward(train_imgs[15])\n",
    "plt.imshow(f)"
   ]
  },
  {
   "cell_type": "markdown",
   "metadata": {
    "id": "d19sthH5yh7V"
   },
   "source": [
    "### Generate output for the first 5 images of the training set"
   ]
  },
  {
   "cell_type": "code",
   "execution_count": 229,
   "metadata": {
    "id": "wrQmjKNMyh7V",
    "outputId": "d7963cc0-66c1-4ee4-cec6-90bd305a1741"
   },
   "outputs": [
    {
     "data": {
      "image/png": "[encoded data removed]",
      "text/plain": [
       "<Figure size 432x288 with 1 Axes>"
      ]
     },
     "metadata": {
      "needs_background": "light"
     },
     "output_type": "display_data"
    },
    {
     "data": {
      "image/png": "[encoded data removed]",
      "text/plain": [
       "<Figure size 432x288 with 1 Axes>"
      ]
     },
     "metadata": {
      "needs_background": "light"
     },
     "output_type": "display_data"
    },
    {
     "data": {
      "image/png": "[encoded data removed]",
      "text/plain": [
       "<Figure size 432x288 with 1 Axes>"
      ]
     },
     "metadata": {
      "needs_background": "light"
     },
     "output_type": "display_data"
    },
    {
     "data": {
      "image/png": "[encoded data removed]",
      "text/plain": [
       "<Figure size 432x288 with 1 Axes>"
      ]
     },
     "metadata": {
      "needs_background": "light"
     },
     "output_type": "display_data"
    },
    {
     "data": {
      "image/png": "[encoded data removed]",
      "text/plain": [
       "<Figure size 432x288 with 1 Axes>"
      ]
     },
     "metadata": {
      "needs_background": "light"
     },
     "output_type": "display_data"
    },
    {
     "data": {
      "image/png": "[encoded data removed]",
      "text/plain": [
       "<Figure size 432x288 with 1 Axes>"
      ]
     },
     "metadata": {
      "needs_background": "light"
     },
     "output_type": "display_data"
    },
    {
     "data": {
      "image/png": "[encoded data removed]",
      "text/plain": [
       "<Figure size 432x288 with 1 Axes>"
      ]
     },
     "metadata": {
      "needs_background": "light"
     },
     "output_type": "display_data"
    },
    {
     "data": {
      "image/png": "[encoded data removed]",
      "text/plain": [
       "<Figure size 432x288 with 1 Axes>"
      ]
     },
     "metadata": {
      "needs_background": "light"
     },
     "output_type": "display_data"
    },
    {
     "data": {
      "image/png": "[encoded data removed]",
      "text/plain": [
       "<Figure size 432x288 with 1 Axes>"
      ]
     },
     "metadata": {
      "needs_background": "light"
     },
     "output_type": "display_data"
    },
    {
     "data": {
      "image/png": "[encoded data removed]",
      "text/plain": [
       "<Figure size 432x288 with 1 Axes>"
      ]
     },
     "metadata": {
      "needs_background": "light"
     },
     "output_type": "display_data"
    }
   ],
   "source": [
    "# WRITE CODE HERE\n",
    "for i in range(5):\n",
    "    image = s[b'data'][i].reshape(3,32,32).transpose(1,2,0)/255\n",
    "    plt.imshow(image)\n",
    "    plt.show()\n",
    "    \n",
    "    \n",
    "    gaussian_blur=generate_gaussian_filter(2,(3,3,3))\n",
    "    model = Convolution_Layer(3,1,(3,3),stride=1,padding=0)\n",
    "    model.set_weights(gaussian_blur.reshape(1,3,3,3))\n",
    "    out=model.forward(image)\n",
    "    plt.imshow(out)\n",
    "    plt.show()"
   ]
  },
  {
   "cell_type": "markdown",
   "metadata": {
    "id": "WVnM1D6Ryh7V"
   },
   "source": [
    "### Use matplotlib to show the input and corresponding blurred output"
   ]
  },
  {
   "cell_type": "code",
   "execution_count": null,
   "metadata": {
    "id": "oWQNUMvQyh7V"
   },
   "outputs": [],
   "source": [
    "# WRITE CODE HERE"
   ]
  },
  {
   "cell_type": "markdown",
   "metadata": {
    "id": "zmsPeOEOpdi8"
   },
   "source": [
    "## Question 5\n",
    "<br>\n",
    "Now we will use this module for training a simple Convolution Layer using CIFAR-10 images. \n",
    "\n",
    "* The goal is to learn a set of weights, by using the backpropagation function created. To test the backpropagation, instead of training a whole network, we will train only a single layer.\n",
    "  * Instantiate a Convolution  layer $C_0$ with 20 filters, each with size 5$\\times$5 (RGB image, so 3 input channels). Load the given numpy array of size (20,3,5,5), which represents the weights of a convolution layer. Set the given values as the filter weights for $C_0$. Take 100 CIFAR-10 images. Save the output of these 100 images generated from this Convolution layer $C_0$. \n",
    "  \n",
    "  * Now, initialize a new convolution layer $C$ with weight values sampled from uniform distribution [-1,1]. Use the $L_2$ loss between the output of this layer $C$ and the output generated in the previous step to learn the filter weights of $C_0$.\n"
   ]
  },
  {
   "cell_type": "code",
   "execution_count": 228,
   "metadata": {
    "id": "p8dGnMHOpdjD",
    "outputId": "c38618ce-a54e-482f-d4a3-47d24b18b266"
   },
   "outputs": [
    {
     "name": "stdout",
     "output_type": "stream",
     "text": [
      "(20, 3, 5, 5)\n",
      "(20, 5, 5, 3)\n",
      "(32, 32, 3)\n"
     ]
    }
   ],
   "source": [
    "## Load filter weights from given numpy array \"C0_weights.npy\".\n",
    "## Init a conv layer C_0 with these given weights\n",
    "\n",
    "## For all images get output. Store in numpy array.\n",
    "\n",
    "C0_weights = np.load(\"C0_weights.npy\")\n",
    "print(C0_weights.shape)\n",
    "C0_weights = C0_weights.transpose(0,2,3,1)\n",
    "print(C0_weights.shape)\n",
    "\n",
    "C_0= Convolution_Layer(3,20,(5,5))\n",
    "C_0.set_weights(C0_weights)\n",
    "print(train_imgs[0].shape)\n",
    "C0_out = []\n",
    "for i in range(100):\n",
    "    C0_out.append(C_0.forward(train_imgs[i]))\n",
    "    \n",
    "\n",
    "    \n",
    "    \n",
    "    \n"
   ]
  },
  {
   "cell_type": "code",
   "execution_count": 230,
   "metadata": {
    "id": "nhhHA4UCpdji"
   },
   "outputs": [],
   "source": [
    "# for part 2 we need to write a class for the  L2 loss\n",
    "class L2_loss():\n",
    "    def ___init__(self):\n",
    "        self.C0_output=None\n",
    "        self.C_output=None\n",
    "    def forward(self, C0_output,C_output):\n",
    "        loss = np.linalg.norm(C0_output-C_output)/1000\n",
    "#         print(loss.shape)\n",
    "        self.f = (C0_output-C_output)/1000\n",
    "        return loss\n",
    "    \n",
    "    def backward(self,output_grad=1):\n",
    "        grad=2*(self.f)\n",
    "        return grad\n",
    "    \n",
    "    \n",
    "\n",
    "# Now Init a new conv layer C and a L2 loss layer\n",
    "\n",
    "\n",
    "# Train the new conv-layer C using the L2 loss to learn C_0, i.e., the set of given weights.\n",
    "# Use mini-batches if required\n",
    "\n",
    "\n",
    "# Print L2 dist between output from the new trained convolution layer C and the outputs generated from C_0.\n"
   ]
  },
  {
   "cell_type": "code",
   "execution_count": 260,
   "metadata": {},
   "outputs": [
    {
     "data": {
      "text/plain": [
       "[<matplotlib.lines.Line2D at 0x7fd6da7df670>]"
      ]
     },
     "execution_count": 260,
     "metadata": {},
     "output_type": "execute_result"
    },
    {
     "data": {
      "image/png": "[encoded data removed]",
      "text/plain": [
       "<Figure size 432x288 with 1 Axes>"
      ]
     },
     "metadata": {
      "needs_background": "light"
     },
     "output_type": "display_data"
    }
   ],
   "source": [
    "max_epochs=5\n",
    "model = Convolution_Layer(3,20,(5,5),stride=1,padding=0)\n",
    "L2=L2_loss()\n",
    "\n",
    "LOSSES=[]\n",
    "epochs=1\n",
    "for epoch in range(epochs):\n",
    "    min_loss=1000000000\n",
    "    for i in range(train_imgs.shape[0]):\n",
    "        ## forward ###\n",
    "        C_output = model.forward(train_imgs[i])\n",
    "        #print(\"--------out________\")\n",
    "        #print(C_output)\n",
    "        loss = L2.forward(C0_output_imgs[i],C_output)/len(s[b'labels'])\n",
    "        LOSSES.append(loss)\n",
    "        \n",
    "        ### backward ####\n",
    "        loss_backward = L2.backward(loss)\n",
    "        #print(\"---------l2 backward-----------\")\n",
    "        #print(loss_backward)\n",
    "        model.backward(loss_backward)\n",
    "        min_loss = min(min_loss,loss)\n",
    "    \n",
    "    \n",
    "plt.plot(LOSSES)"
   ]
  }
 ],
 "metadata": {
  "anaconda-cloud": {},
  "colab": {
   "provenance": []
  },
  "interpreter": {
   "hash": "6945496b114ae6c8dbcad4f53e4fc084fdd8255c08c862c02a1152642bece680"
  },
  "kernelspec": {
   "display_name": "Python 3 (ipykernel)",
   "language": "python",
   "name": "python3"
  },
  "language_info": {
   "codemirror_mode": {
    "name": "ipython",
    "version": 3
   },
   "file_extension": ".py",
   "mimetype": "text/x-python",
   "name": "python",
   "nbconvert_exporter": "python",
   "pygments_lexer": "ipython3",
   "version": "3.9.12"
  }
 },
 "nbformat": 4,
 "nbformat_minor": 1
}
